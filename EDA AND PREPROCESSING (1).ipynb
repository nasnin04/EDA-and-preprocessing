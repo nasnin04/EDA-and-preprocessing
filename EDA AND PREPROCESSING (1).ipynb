{
 "cells": [
  {
   "cell_type": "code",
   "execution_count": 1,
   "id": "e2c57700-7cef-4ab5-b35d-572cd6d69ec5",
   "metadata": {},
   "outputs": [],
   "source": [
    "import pandas as pd"
   ]
  },
  {
   "cell_type": "code",
   "execution_count": 3,
   "id": "a583e8b4-6d12-4a3f-b778-8dd2ca59d232",
   "metadata": {},
   "outputs": [],
   "source": [
    "import numpy as np"
   ]
  },
  {
   "cell_type": "code",
   "execution_count": 5,
   "id": "82165baf-d6eb-46f5-b526-fdc5fcbeb126",
   "metadata": {},
   "outputs": [],
   "source": [
    "import matplotlib.pyplot as plt"
   ]
  },
  {
   "cell_type": "code",
   "execution_count": 7,
   "id": "c38198fc-62ae-4a0c-949d-9b4723a527a3",
   "metadata": {},
   "outputs": [],
   "source": [
    "import seaborn as sns\n",
    "from sklearn.preprocessing import StandardScaler, MinMaxScaler, LabelEncoder"
   ]
  },
  {
   "cell_type": "code",
   "execution_count": 17,
   "id": "4938ae63-175f-4d8c-b39e-c4864adfc1a3",
   "metadata": {},
   "outputs": [],
   "source": [
    "url = \"https://drive.google.com/uc?id=1F3lRf32JM8ejnXq-Cbf9y7fa57zSHGz_\"\n",
    "df = pd.read_csv(url)"
   ]
  },
  {
   "cell_type": "code",
   "execution_count": 19,
   "id": "d683a934-5122-4b87-9944-59e27ffcf113",
   "metadata": {},
   "outputs": [
    {
     "name": "stdout",
     "output_type": "stream",
     "text": [
      "Dataset Info:\n",
      "<class 'pandas.core.frame.DataFrame'>\n",
      "RangeIndex: 148 entries, 0 to 147\n",
      "Data columns (total 6 columns):\n",
      " #   Column   Non-Null Count  Dtype  \n",
      "---  ------   --------------  -----  \n",
      " 0   Company  140 non-null    object \n",
      " 1   Age      130 non-null    float64\n",
      " 2   Salary   124 non-null    float64\n",
      " 3   Place    134 non-null    object \n",
      " 4   Country  148 non-null    object \n",
      " 5   Gender   148 non-null    int64  \n",
      "dtypes: float64(2), int64(1), object(3)\n",
      "memory usage: 7.1+ KB\n",
      "None\n"
     ]
    }
   ],
   "source": [
    "print(\"Dataset Info:\")\n",
    "print(df.info())"
   ]
  },
  {
   "cell_type": "code",
   "execution_count": 21,
   "id": "021ebb36-b71c-4c47-a342-348aab808220",
   "metadata": {},
   "outputs": [
    {
     "name": "stdout",
     "output_type": "stream",
     "text": [
      "\n",
      "Unique Values in Each Column:\n",
      "Company: 6 unique values\n",
      "Age: 29 unique values\n",
      "Salary: 40 unique values\n",
      "Place: 11 unique values\n",
      "Country: 1 unique values\n",
      "Gender: 2 unique values\n"
     ]
    }
   ],
   "source": [
    "print(\"\\nUnique Values in Each Column:\")\n",
    "for col in df.columns:\n",
    "    print(f\"{col}: {df[col].nunique()} unique values\")"
   ]
  },
  {
   "cell_type": "code",
   "execution_count": 23,
   "id": "3b1f0897-2931-402e-93b8-f64470e5b0f6",
   "metadata": {},
   "outputs": [
    {
     "name": "stdout",
     "output_type": "stream",
     "text": [
      "\n",
      "Statistical Summary:\n",
      "              Age       Salary      Gender\n",
      "count  130.000000   124.000000  148.000000\n",
      "mean    30.484615  5312.467742    0.222973\n",
      "std     11.096640  2573.764683    0.417654\n",
      "min      0.000000  1089.000000    0.000000\n",
      "25%     22.000000  3030.000000    0.000000\n",
      "50%     32.500000  5000.000000    0.000000\n",
      "75%     37.750000  8000.000000    0.000000\n",
      "max     54.000000  9876.000000    1.000000\n"
     ]
    }
   ],
   "source": [
    "print(\"\\nStatistical Summary:\")\n",
    "print(df.describe())"
   ]
  },
  {
   "cell_type": "code",
   "execution_count": 25,
   "id": "5af509b4-dfe3-4292-866a-3f2546888d7e",
   "metadata": {},
   "outputs": [],
   "source": [
    "df.rename(columns={'old_column_name': 'new_column_name'}, inplace=True)"
   ]
  },
  {
   "cell_type": "code",
   "execution_count": 31,
   "id": "62cde346-21ee-4635-9f4d-8941cb475908",
   "metadata": {},
   "outputs": [],
   "source": [
    "df['Age'] = df['Age'].replace(0, np.nan)"
   ]
  },
  {
   "cell_type": "code",
   "execution_count": 33,
   "id": "5812df94-73d7-452c-a46d-88b63a46a880",
   "metadata": {},
   "outputs": [
    {
     "name": "stdout",
     "output_type": "stream",
     "text": [
      "\n",
      "Missing Values:\n",
      "Company     8\n",
      "Age        24\n",
      "Salary     24\n",
      "Place      14\n",
      "Country     0\n",
      "Gender      0\n",
      "dtype: int64\n"
     ]
    }
   ],
   "source": [
    "print(\"\\nMissing Values:\")\n",
    "print(df.isnull().sum())"
   ]
  },
  {
   "cell_type": "code",
   "execution_count": 37,
   "id": "abdffd38-e3a8-49b8-b200-e287e5e0e910",
   "metadata": {},
   "outputs": [],
   "source": [
    "numeric_cols = df.select_dtypes(include=['number']).columns\n",
    "df[numeric_cols] = df[numeric_cols].fillna(df[numeric_cols].mean())"
   ]
  },
  {
   "cell_type": "code",
   "execution_count": null,
   "id": "ea2b7f98-5ce0-43b3-8770-d6b749c2d1c8",
   "metadata": {},
   "outputs": [],
   "source": []
  },
  {
   "cell_type": "code",
   "execution_count": 41,
   "id": "accf288d-318f-48f1-9997-c26ab34492a8",
   "metadata": {},
   "outputs": [],
   "source": [
    "df.drop_duplicates(inplace=True)"
   ]
  },
  {
   "cell_type": "code",
   "execution_count": 45,
   "id": "c37a39e3-5325-4e16-b560-852d472e55e1",
   "metadata": {},
   "outputs": [],
   "source": [
    "numeric_cols = df.select_dtypes(include=['number'])"
   ]
  },
  {
   "cell_type": "code",
   "execution_count": 47,
   "id": "c8305351-10c7-42ff-b940-865db65ae7a8",
   "metadata": {},
   "outputs": [],
   "source": [
    "Q1 = numeric_cols.quantile(0.25)\n",
    "Q3 = numeric_cols.quantile(0.75)\n",
    "IQR = Q3 - Q1"
   ]
  },
  {
   "cell_type": "code",
   "execution_count": 49,
   "id": "5f6e4545-fdbf-477f-a7c2-70ffccd3d32f",
   "metadata": {},
   "outputs": [],
   "source": [
    "outliers = ((numeric_cols < (Q1 - 1.5 * IQR)) | (numeric_cols > (Q3 + 1.5 * IQR))).sum()"
   ]
  },
  {
   "cell_type": "code",
   "execution_count": 51,
   "id": "3804167a-7c9f-462b-8c36-18a7697f2def",
   "metadata": {},
   "outputs": [
    {
     "name": "stdout",
     "output_type": "stream",
     "text": [
      "\n",
      "Outliers Detected in Each Numeric Column:\n",
      "Age        0\n",
      "Salary     0\n",
      "Gender    32\n",
      "dtype: int64\n"
     ]
    }
   ],
   "source": [
    "print(\"\\nOutliers Detected in Each Numeric Column:\")\n",
    "print(outliers)"
   ]
  },
  {
   "cell_type": "code",
   "execution_count": 57,
   "id": "8a798a1c-3a9a-4382-a320-8fdc40b34312",
   "metadata": {},
   "outputs": [
    {
     "data": {
      "image/png": "[encoded data removed]",
      "text/plain": [
       "<Figure size 800x600 with 1 Axes>"
      ]
     },
     "metadata": {},
     "output_type": "display_data"
    }
   ],
   "source": [
    "plt.figure(figsize=(8, 6))\n",
    "plt.scatter(df['Age'], df['Salary'])\n",
    "plt.title('Age vs Salary')\n",
    "plt.xlabel('Age')\n",
    "plt.ylabel('Salary')\n",
    "plt.show()"
   ]
  },
  {
   "cell_type": "code",
   "execution_count": 61,
   "id": "fa508e30-68a1-499c-b340-b8d1a4b9e0d7",
   "metadata": {},
   "outputs": [
    {
     "data": {
      "image/png": "[encoded data removed]",
      "text/plain": [
       "<Figure size 800x600 with 1 Axes>"
      ]
     },
     "metadata": {},
     "output_type": "display_data"
    }
   ],
   "source": [
    "place_count = df['Place'].value_counts()\n",
    "place_count.plot(kind='bar', figsize=(8, 6), title='Number of People by Place')\n",
    "plt.xlabel('Place')\n",
    "plt.ylabel('Count')\n",
    "plt.show()"
   ]
  },
  {
   "cell_type": "code",
   "execution_count": null,
   "id": "982b0e8d-5fa8-4c8f-867b-4d953d5f29de",
   "metadata": {},
   "outputs": [],
   "source": [
    "df_encoded = pd.get_dummies(df, columns=['categorical_column'], drop_first=True)"
   ]
  },
  {
   "cell_type": "code",
   "execution_count": 69,
   "id": "53d678b2-3ed8-4af8-83ef-4f71daccb926",
   "metadata": {},
   "outputs": [],
   "source": [
    "scaler = StandardScaler()\n",
    "scaled_features = scaler.fit_transform(df.select_dtypes(include=['float64', 'int64']))"
   ]
  },
  {
   "cell_type": "code",
   "execution_count": 71,
   "id": "dbcf2bef-cd16-42ec-8cee-97ecf0b39870",
   "metadata": {},
   "outputs": [],
   "source": [
    "minmax_scaler = MinMaxScaler()\n",
    "normalized_features = minmax_scaler.fit_transform(df.select_dtypes(include=['float64', 'int64']))"
   ]
  },
  {
   "cell_type": "code",
   "execution_count": 73,
   "id": "3d83b4fa-a829-4ecf-a3a7-2a67b3a0d029",
   "metadata": {},
   "outputs": [],
   "source": [
    "scaled_df = pd.DataFrame(scaled_features, columns=df.select_dtypes(include=['float64', 'int64']).columns)\n",
    "normalized_df = pd.DataFrame(normalized_features, columns=df.select_dtypes(include=['float64', 'int64']).columns)"
   ]
  },
  {
   "cell_type": "code",
   "execution_count": 75,
   "id": "c7296ed5-09f1-41a7-ac27-3749f81a04a2",
   "metadata": {},
   "outputs": [
    {
     "name": "stdout",
     "output_type": "stream",
     "text": [
      "\n",
      "Scaled Data:\n",
      "        Age    Salary    Gender\n",
      "0 -1.465777  0.010324 -0.534522\n",
      "1 -0.247168  0.010324 -0.534522\n",
      "2  0.362136 -1.266072 -0.534522\n",
      "3  0.971441 -0.969479 -0.534522\n",
      "4 -1.100194 -0.545775 -0.534522\n",
      "\n",
      "Normalized Data:\n",
      "        Age    Salary  Gender\n",
      "0  0.081081  0.480650     0.0\n",
      "1  0.351351  0.480650     0.0\n",
      "2  0.486486  0.137817     0.0\n",
      "3  0.621622  0.217480     0.0\n",
      "4  0.162162  0.331285     0.0\n"
     ]
    }
   ],
   "source": [
    "print(\"\\nScaled Data:\")\n",
    "print(scaled_df.head())\n",
    "\n",
    "print(\"\\nNormalized Data:\")\n",
    "print(normalized_df.head())"
   ]
  },
  {
   "cell_type": "code",
   "execution_count": null,
   "id": "1de99598-60aa-464c-95de-db6ec0ff7e58",
   "metadata": {},
   "outputs": [],
   "source": []
  }
 ],
 "metadata": {
  "kernelspec": {
   "display_name": "Python 3 (ipykernel)",
   "language": "python",
   "name": "python3"
  },
  "language_info": {
   "codemirror_mode": {
    "name": "ipython",
    "version": 3
   },
   "file_extension": ".py",
   "mimetype": "text/x-python",
   "name": "python",
   "nbconvert_exporter": "python",
   "pygments_lexer": "ipython3",
   "version": "3.12.4"
  }
 },
 "nbformat": 4,
 "nbformat_minor": 5
}
